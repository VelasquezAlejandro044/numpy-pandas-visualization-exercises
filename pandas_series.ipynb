{
 "cells": [
  {
   "cell_type": "markdown",
   "id": "dbd0fd0d",
   "metadata": {},
   "source": [
    "# Exercises Part I"
   ]
  },
  {
   "cell_type": "code",
   "execution_count": 2,
   "id": "5fa0046f",
   "metadata": {},
   "outputs": [],
   "source": [
    "import numpy as np\n",
    "import pandas as pd\n",
    "import matplotlib.pyplot as plt"
   ]
  },
  {
   "cell_type": "code",
   "execution_count": 5,
   "id": "7565616e",
   "metadata": {},
   "outputs": [
    {
     "data": {
      "text/plain": [
       "0                 kiwi\n",
       "1                mango\n",
       "2           strawberry\n",
       "3            pineapple\n",
       "4           gala apple\n",
       "5     honeycrisp apple\n",
       "6               tomato\n",
       "7           watermelon\n",
       "8             honeydew\n",
       "9                 kiwi\n",
       "10                kiwi\n",
       "11                kiwi\n",
       "12               mango\n",
       "13           blueberry\n",
       "14          blackberry\n",
       "15          gooseberry\n",
       "16              papaya\n",
       "dtype: object"
      ]
     },
     "execution_count": 5,
     "metadata": {},
     "output_type": "execute_result"
    }
   ],
   "source": [
    "a = [\"kiwi\", \"mango\", \"strawberry\", \"pineapple\", \"gala apple\", \"honeycrisp apple\", \"tomato\", \"watermelon\", \"honeydew\", \"kiwi\", \"kiwi\", \"kiwi\", \"mango\", \"blueberry\", \"blackberry\", \"gooseberry\", \"papaya\"]\n",
    "f =  pd.Series(a)\n",
    "f"
   ]
  },
  {
   "cell_type": "code",
   "execution_count": 49,
   "id": "5c29af55",
   "metadata": {},
   "outputs": [
    {
     "name": "stdout",
     "output_type": "stream",
     "text": [
      "1. There are 17 elements in fruits.\n",
      "\n",
      "2. The index of fruits is as follows: RangeIndex(start=0, stop=17, step=1)\n",
      "\n",
      "3. This are the values from fruits: ['kiwi' 'mango' 'strawberry' 'pineapple' 'gala apple' 'honeycrisp apple'\n",
      " 'tomato' 'watermelon' 'honeydew' 'kiwi' 'kiwi' 'kiwi' 'mango' 'blueberry'\n",
      " 'blackberry' 'gooseberry' 'papaya']\n",
      "\n",
      "4. data typeof fruitd: object\n",
      "\n",
      "First five values from fruits: 0          kiwi\n",
      "1         mango\n",
      "2    strawberry\n",
      "3     pineapple\n",
      "4    gala apple\n",
      "dtype: object\n",
      "\n",
      "6. Run .describe(): count       17\n",
      "unique      13\n",
      "top       kiwi\n",
      "freq         4\n",
      "dtype: object\n",
      "\n",
      "7. The unique string values from fruits are: ['kiwi' 'mango' 'strawberry' 'pineapple' 'gala apple' 'honeycrisp apple'\n",
      " 'tomato' 'watermelon' 'honeydew' 'blueberry' 'blackberry' 'gooseberry'\n",
      " 'papaya']\n",
      "\n",
      "8. Unique strings occurrenses in fruits: kiwi                4\n",
      "mango               2\n",
      "watermelon          1\n",
      "honeycrisp apple    1\n",
      "honeydew            1\n",
      "papaya              1\n",
      "blueberry           1\n",
      "gooseberry          1\n",
      "pineapple           1\n",
      "gala apple          1\n",
      "tomato              1\n",
      "strawberry          1\n",
      "blackberry          1\n",
      "dtype: int64\n",
      "\n",
      "9. Value with the most frequently in fruits: kiwi\n",
      "\n",
      "10. Least occurrens string in fruits: blackberry\n"
     ]
    }
   ],
   "source": [
    "# 1. Determine the number of elements in fruits.\n",
    "print( f\"1. There are {f.size} elements in fruits.\")\n",
    "print(\"\")\n",
    "\n",
    "# 2. Output only the index from fruits.\n",
    "print(f\"2. The index of fruits is as follows: {f.index}\")\n",
    "print(\"\")\n",
    "\n",
    "# 3. Output only the values from fruits.\n",
    "print(f\"3. This are the values from fruits: {f.values}\")\n",
    "print(\"\")\n",
    "\n",
    "# 4. Confirm the data type of the values in fruits.\n",
    "print(f\"4. data typeof fruitd: {f.dtype}\")\n",
    "print(\"\")\n",
    "\n",
    "# 5 .Output only the first five values from fruits. Output the last three values. Output two random values from fruits.\n",
    "print(f\"First five values from fruits: {f.head()}\")\n",
    "print(\"\")\n",
    "\n",
    "# 6. Run the .describe() on fruits to see what information it returns when called on a Series with string values.\n",
    "print(f\"6. Run .describe(): {f.describe()}\")\n",
    "print(\"\")\n",
    "\n",
    "# 7. Run the code necessary to produce only the unique string values from fruits.\n",
    "print(f\"7. The unique string values from fruits are: {f.unique()}\")\n",
    "print(\"\")\n",
    "\n",
    "# 8. Determine how many times each unique string value occurs in fruits.\n",
    "print(f\"8. Unique strings occurrenses in fruits: {f.value_counts()}\")\n",
    "print(\"\")\n",
    "\n",
    "# 9. Determine the string value that occurs most frequently in fruits.\n",
    "print(f\"9. Value with the most frequently in fruits: {f.value_counts().index[0]}\")\n",
    "print(\"\")\n",
    "\n",
    "# 10. Determine the string value that occurs least frequently in fruits\n",
    "print(f\"10. Least occurrens string in fruits: {f.value_counts().index[-1]}\")\n"
   ]
  },
  {
   "cell_type": "markdown",
   "id": "6745b30f",
   "metadata": {},
   "source": [
    "# Exercises Part II "
   ]
  },
  {
   "cell_type": "code",
   "execution_count": 79,
   "id": "81b81ef3",
   "metadata": {},
   "outputs": [
    {
     "name": "stdout",
     "output_type": "stream",
     "text": [
      "1. Capitalized fruits: 0                 Kiwi\n",
      "1                Mango\n",
      "2           Strawberry\n",
      "3            Pineapple\n",
      "4           Gala apple\n",
      "5     Honeycrisp apple\n",
      "6               Tomato\n",
      "7           Watermelon\n",
      "8             Honeydew\n",
      "9                 Kiwi\n",
      "10                Kiwi\n",
      "11                Kiwi\n",
      "12               Mango\n",
      "13           Blueberry\n",
      "14          Blackberry\n",
      "15          Gooseberry\n",
      "16              Papaya\n",
      "dtype: object\n",
      "\n",
      "2. The letter 'a' is in fruits: 17 times\n",
      "\n"
     ]
    },
    {
     "ename": "AttributeError",
     "evalue": "module 'pandas' has no attribute 'vowel_count'",
     "output_type": "error",
     "traceback": [
      "\u001b[0;31m---------------------------------------------------------------------------\u001b[0m",
      "\u001b[0;31mAttributeError\u001b[0m                            Traceback (most recent call last)",
      "\u001b[0;32m<ipython-input-79-ffc0813cd5b3>\u001b[0m in \u001b[0;36m<module>\u001b[0;34m\u001b[0m\n\u001b[1;32m     14\u001b[0m             \u001b[0mvowel_count\u001b[0m \u001b[0;34m+=\u001b[0m \u001b[0;36m1\u001b[0m\u001b[0;34m\u001b[0m\u001b[0;34m\u001b[0m\u001b[0m\n\u001b[1;32m     15\u001b[0m         \u001b[0;32mreturn\u001b[0m \u001b[0mpd\u001b[0m\u001b[0;34m.\u001b[0m\u001b[0mvowel_count\u001b[0m\u001b[0;34m(\u001b[0m\u001b[0;34m)\u001b[0m\u001b[0;34m\u001b[0m\u001b[0;34m\u001b[0m\u001b[0m\n\u001b[0;32m---> 16\u001b[0;31m \u001b[0mprint\u001b[0m\u001b[0;34m(\u001b[0m\u001b[0mis_vowel\u001b[0m\u001b[0;34m(\u001b[0m\u001b[0;34m'abc'\u001b[0m\u001b[0;34m)\u001b[0m\u001b[0;34m)\u001b[0m\u001b[0;34m\u001b[0m\u001b[0;34m\u001b[0m\u001b[0m\n\u001b[0m\u001b[1;32m     17\u001b[0m \u001b[0;34m\u001b[0m\u001b[0m\n\u001b[1;32m     18\u001b[0m \u001b[0;31m# vowels = list('aeiouAEIOU')\u001b[0m\u001b[0;34m\u001b[0m\u001b[0;34m\u001b[0m\u001b[0;34m\u001b[0m\u001b[0m\n",
      "\u001b[0;32m<ipython-input-79-ffc0813cd5b3>\u001b[0m in \u001b[0;36mis_vowel\u001b[0;34m(str)\u001b[0m\n\u001b[1;32m     13\u001b[0m         \u001b[0;32mif\u001b[0m \u001b[0mchar\u001b[0m \u001b[0;32min\u001b[0m \u001b[0;34m'aeiouAEIOU'\u001b[0m\u001b[0;34m:\u001b[0m\u001b[0;34m\u001b[0m\u001b[0;34m\u001b[0m\u001b[0m\n\u001b[1;32m     14\u001b[0m             \u001b[0mvowel_count\u001b[0m \u001b[0;34m+=\u001b[0m \u001b[0;36m1\u001b[0m\u001b[0;34m\u001b[0m\u001b[0;34m\u001b[0m\u001b[0m\n\u001b[0;32m---> 15\u001b[0;31m         \u001b[0;32mreturn\u001b[0m \u001b[0mpd\u001b[0m\u001b[0;34m.\u001b[0m\u001b[0mvowel_count\u001b[0m\u001b[0;34m(\u001b[0m\u001b[0;34m)\u001b[0m\u001b[0;34m\u001b[0m\u001b[0;34m\u001b[0m\u001b[0m\n\u001b[0m\u001b[1;32m     16\u001b[0m \u001b[0mprint\u001b[0m\u001b[0;34m(\u001b[0m\u001b[0mis_vowel\u001b[0m\u001b[0;34m(\u001b[0m\u001b[0;34m'abc'\u001b[0m\u001b[0;34m)\u001b[0m\u001b[0;34m)\u001b[0m\u001b[0;34m\u001b[0m\u001b[0;34m\u001b[0m\u001b[0m\n\u001b[1;32m     17\u001b[0m \u001b[0;34m\u001b[0m\u001b[0m\n",
      "\u001b[0;32m/opt/homebrew/anaconda3/lib/python3.8/site-packages/pandas/__init__.py\u001b[0m in \u001b[0;36m__getattr__\u001b[0;34m(name)\u001b[0m\n\u001b[1;32m    242\u001b[0m         \u001b[0;32mreturn\u001b[0m \u001b[0m_SparseArray\u001b[0m\u001b[0;34m\u001b[0m\u001b[0;34m\u001b[0m\u001b[0m\n\u001b[1;32m    243\u001b[0m \u001b[0;34m\u001b[0m\u001b[0m\n\u001b[0;32m--> 244\u001b[0;31m     \u001b[0;32mraise\u001b[0m \u001b[0mAttributeError\u001b[0m\u001b[0;34m(\u001b[0m\u001b[0;34mf\"module 'pandas' has no attribute '{name}'\"\u001b[0m\u001b[0;34m)\u001b[0m\u001b[0;34m\u001b[0m\u001b[0;34m\u001b[0m\u001b[0m\n\u001b[0m\u001b[1;32m    245\u001b[0m \u001b[0;34m\u001b[0m\u001b[0m\n\u001b[1;32m    246\u001b[0m \u001b[0;34m\u001b[0m\u001b[0m\n",
      "\u001b[0;31mAttributeError\u001b[0m: module 'pandas' has no attribute 'vowel_count'"
     ]
    }
   ],
   "source": [
    "# 1. Capitalize all the string values in fruits.\n",
    "print(f\"1. Capitalized fruits: {f.str.capitalize()}\")\n",
    "print(\"\")\n",
    "\n",
    "# 2. Count the letter \"a\" in all the string values (use string vectorization).\n",
    "print(f\"2. The letter 'a' is in fruits: {(f.str.count('a').count())} times\")\n",
    "print(\"\")\n",
    "\n",
    "# 3. Output the number of vowels in each and every string value.\n",
    "\n",
    "\n",
    "# Input series of words\n",
    "words = pd.Series(['alphabet', 'consonants', \n",
    "                   'vowels', 'letters'])\n",
    "\n",
    "for i in range(len(words)):\n",
    "    print(words[i], words.str.len()[i]) \n",
    "            \n",
    "# vowels = list('aeiouAEIOU')\n",
    "# print(f\"3.Vowels per string: { } times\")\n",
    "# print(\"\")\n",
    "\n",
    "# 4. Write the code to get the longest string value from fruits.\n",
    "\n",
    "# 5. Write the code to get the string values with 5 or more letters in the name.\n",
    "\n",
    "# 6. Use the .apply method with a lambda function to find the fruit(s) containing the letter \"o\" two or more times.\n",
    "\n",
    "# 7. Write the code to get only the string values containing the substring \"berry\".\n",
    "\n",
    "# 8. Write the code to get only the string values containing the substring \"apple\".\n",
    "\n",
    "# 9. Which string value contains the most vowels?"
   ]
  },
  {
   "cell_type": "code",
   "execution_count": null,
   "id": "c8dbac14",
   "metadata": {},
   "outputs": [],
   "source": []
  }
 ],
 "metadata": {
  "kernelspec": {
   "display_name": "Python 3",
   "language": "python",
   "name": "python3"
  },
  "language_info": {
   "codemirror_mode": {
    "name": "ipython",
    "version": 3
   },
   "file_extension": ".py",
   "mimetype": "text/x-python",
   "name": "python",
   "nbconvert_exporter": "python",
   "pygments_lexer": "ipython3",
   "version": "3.8.8"
  }
 },
 "nbformat": 4,
 "nbformat_minor": 5
}

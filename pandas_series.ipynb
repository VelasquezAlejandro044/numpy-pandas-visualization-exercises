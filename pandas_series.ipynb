{
 "cells": [
  {
   "cell_type": "markdown",
   "id": "dbd0fd0d",
   "metadata": {},
   "source": [
    "# <h1><center>Exercises Part I</center></h1> # "
   ]
  },
  {
   "cell_type": "code",
   "execution_count": 1,
   "id": "5fa0046f",
   "metadata": {},
   "outputs": [],
   "source": [
    "import numpy as np\n",
    "import pandas as pd\n",
    "import matplotlib.pyplot as plt"
   ]
  },
  {
   "cell_type": "code",
   "execution_count": 2,
   "id": "7565616e",
   "metadata": {},
   "outputs": [
    {
     "data": {
      "text/plain": [
       "0                 kiwi\n",
       "1                mango\n",
       "2           strawberry\n",
       "3            pineapple\n",
       "4           gala apple\n",
       "5     honeycrisp apple\n",
       "6               tomato\n",
       "7           watermelon\n",
       "8             honeydew\n",
       "9                 kiwi\n",
       "10                kiwi\n",
       "11                kiwi\n",
       "12               mango\n",
       "13           blueberry\n",
       "14          blackberry\n",
       "15          gooseberry\n",
       "16              papaya\n",
       "dtype: object"
      ]
     },
     "execution_count": 2,
     "metadata": {},
     "output_type": "execute_result"
    }
   ],
   "source": [
    "a = [\"kiwi\", \"mango\", \"strawberry\", \"pineapple\", \"gala apple\", \"honeycrisp apple\", \"tomato\", \"watermelon\", \"honeydew\", \"kiwi\", \"kiwi\", \"kiwi\", \"mango\", \"blueberry\", \"blackberry\", \"gooseberry\", \"papaya\"]\n",
    "f =  pd.Series(a)\n",
    "f"
   ]
  },
  {
   "cell_type": "code",
   "execution_count": 3,
   "id": "5c29af55",
   "metadata": {},
   "outputs": [
    {
     "name": "stdout",
     "output_type": "stream",
     "text": [
      "1. There are 17 elements in fruits.\n",
      "\n",
      "2. The index of fruits is as follows: RangeIndex(start=0, stop=17, step=1)\n",
      "\n",
      "3. This are the values from fruits: ['kiwi' 'mango' 'strawberry' 'pineapple' 'gala apple' 'honeycrisp apple'\n",
      " 'tomato' 'watermelon' 'honeydew' 'kiwi' 'kiwi' 'kiwi' 'mango' 'blueberry'\n",
      " 'blackberry' 'gooseberry' 'papaya']\n",
      "\n",
      "4. data typeof fruitd: object\n",
      "\n",
      "First five values from fruits: 0          kiwi\n",
      "1         mango\n",
      "2    strawberry\n",
      "3     pineapple\n",
      "4    gala apple\n",
      "dtype: object\n",
      "\n",
      "6. Run .describe(): count       17\n",
      "unique      13\n",
      "top       kiwi\n",
      "freq         4\n",
      "dtype: object\n",
      "\n",
      "7. The unique string values from fruits are: ['kiwi' 'mango' 'strawberry' 'pineapple' 'gala apple' 'honeycrisp apple'\n",
      " 'tomato' 'watermelon' 'honeydew' 'blueberry' 'blackberry' 'gooseberry'\n",
      " 'papaya']\n",
      "\n",
      "8. Unique strings occurrenses in fruits: kiwi                4\n",
      "mango               2\n",
      "tomato              1\n",
      "pineapple           1\n",
      "honeydew            1\n",
      "gala apple          1\n",
      "blueberry           1\n",
      "watermelon          1\n",
      "gooseberry          1\n",
      "blackberry          1\n",
      "strawberry          1\n",
      "papaya              1\n",
      "honeycrisp apple    1\n",
      "dtype: int64\n",
      "\n",
      "9. Value with the most frequently in fruits: kiwi\n",
      "\n",
      "10. Least occurrens string in fruits: honeycrisp apple\n"
     ]
    }
   ],
   "source": [
    "# 1. Determine the number of elements in fruits.\n",
    "print( f\"1. There are {f.size} elements in fruits.\")\n",
    "print(\"\")\n",
    "\n",
    "# 2. Output only the index from fruits.\n",
    "print(f\"2. The index of fruits is as follows: {f.index}\")\n",
    "print(\"\")\n",
    "\n",
    "# 3. Output only the values from fruits.\n",
    "print(f\"3. This are the values from fruits: {f.values}\")\n",
    "print(\"\")\n",
    "\n",
    "# 4. Confirm the data type of the values in fruits.\n",
    "print(f\"4. data typeof fruitd: {f.dtype}\")\n",
    "print(\"\")\n",
    "\n",
    "# 5 .Output only the first five values from fruits. Output the last three values. Output two random values from fruits.\n",
    "print(f\"First five values from fruits: {f.head()}\")\n",
    "print(\"\")\n",
    "\n",
    "# 6. Run the .describe() on fruits to see what information it returns when called on a Series with string values.\n",
    "print(f\"6. Run .describe(): {f.describe()}\")\n",
    "print(\"\")\n",
    "\n",
    "# 7. Run the code necessary to produce only the unique string values from fruits.\n",
    "print(f\"7. The unique string values from fruits are: {f.unique()}\")\n",
    "print(\"\")\n",
    "\n",
    "# 8. Determine how many times each unique string value occurs in fruits.\n",
    "print(f\"8. Unique strings occurrenses in fruits: {f.value_counts()}\")\n",
    "print(\"\")\n",
    "\n",
    "# 9. Determine the string value that occurs most frequently in fruits.\n",
    "print(f\"9. Value with the most frequently in fruits: {f.value_counts().index[0]}\")\n",
    "print(\"\")\n",
    "\n",
    "# 10. Determine the string value that occurs least frequently in fruits\n",
    "print(f\"10. Least occurrens string in fruits: {f.value_counts().index[-1]}\")\n"
   ]
  },
  {
   "cell_type": "markdown",
   "id": "6745b30f",
   "metadata": {},
   "source": [
    "# <h1><center>Exercises Part II</center></h1> # "
   ]
  },
  {
   "cell_type": "code",
   "execution_count": 4,
   "id": "81b81ef3",
   "metadata": {},
   "outputs": [
    {
     "name": "stdout",
     "output_type": "stream",
     "text": [
      "1. Capitalized fruits: 0                 Kiwi\n",
      "1                Mango\n",
      "2           Strawberry\n",
      "3            Pineapple\n",
      "4           Gala apple\n",
      "5     Honeycrisp apple\n",
      "6               Tomato\n",
      "7           Watermelon\n",
      "8             Honeydew\n",
      "9                 Kiwi\n",
      "10                Kiwi\n",
      "11                Kiwi\n",
      "12               Mango\n",
      "13           Blueberry\n",
      "14          Blackberry\n",
      "15          Gooseberry\n",
      "16              Papaya\n",
      "dtype: object\n",
      "\n"
     ]
    }
   ],
   "source": [
    "# 1. Capitalize all the string values in fruits.\n",
    "print(f\"1. Capitalized fruits: {f.str.capitalize()}\")\n",
    "print(\"\")"
   ]
  },
  {
   "cell_type": "code",
   "execution_count": 5,
   "id": "c8dbac14",
   "metadata": {},
   "outputs": [
    {
     "name": "stdout",
     "output_type": "stream",
     "text": [
      "2. The letter 'a' is in fruits: 0     0\n",
      "1     1\n",
      "2     1\n",
      "3     1\n",
      "4     3\n",
      "5     1\n",
      "6     1\n",
      "7     1\n",
      "8     0\n",
      "9     0\n",
      "10    0\n",
      "11    0\n",
      "12    1\n",
      "13    0\n",
      "14    1\n",
      "15    0\n",
      "16    3\n",
      "dtype: int64\n",
      "\n"
     ]
    }
   ],
   "source": [
    "# 2. Count the letter \"a\" in all the string values (use string vectorization).\n",
    "print(f\"2. The letter 'a' is in fruits: {f.str.count('a')}\")\n",
    "print(\"\")"
   ]
  },
  {
   "cell_type": "code",
   "execution_count": 6,
   "id": "f15f1720",
   "metadata": {},
   "outputs": [
    {
     "data": {
      "text/plain": [
       "0     2\n",
       "1     2\n",
       "2     2\n",
       "3     4\n",
       "4     4\n",
       "5     5\n",
       "6     3\n",
       "7     4\n",
       "8     3\n",
       "9     2\n",
       "10    2\n",
       "11    2\n",
       "12    2\n",
       "13    3\n",
       "14    2\n",
       "15    4\n",
       "16    3\n",
       "dtype: int64"
      ]
     },
     "execution_count": 6,
     "metadata": {},
     "output_type": "execute_result"
    }
   ],
   "source": [
    "# 3. Output the number of vowels in each and every string value.\n",
    "num_vowels = f.str.lower().str.count('[aeiou]') \n",
    "num_vowels"
   ]
  },
  {
   "cell_type": "code",
   "execution_count": 7,
   "id": "ff39459c",
   "metadata": {},
   "outputs": [
    {
     "data": {
      "text/plain": [
       "'honeycrisp apple'"
      ]
     },
     "execution_count": 7,
     "metadata": {},
     "output_type": "execute_result"
    }
   ],
   "source": [
    "# 4. Write the code to get the longest string value from fruits.\n",
    "f[f.str.len().idxmax()]"
   ]
  },
  {
   "cell_type": "code",
   "execution_count": 8,
   "id": "6e2ea5eb",
   "metadata": {},
   "outputs": [
    {
     "data": {
      "text/plain": [
       "2           strawberry\n",
       "3            pineapple\n",
       "4           gala apple\n",
       "5     honeycrisp apple\n",
       "6               tomato\n",
       "7           watermelon\n",
       "8             honeydew\n",
       "13           blueberry\n",
       "14          blackberry\n",
       "15          gooseberry\n",
       "16              papaya\n",
       "dtype: object"
      ]
     },
     "execution_count": 8,
     "metadata": {},
     "output_type": "execute_result"
    }
   ],
   "source": [
    "# 5. Write the code to get the string values with 5 or more letters in the name.\n",
    "f[f.str.len() > 5]"
   ]
  },
  {
   "cell_type": "code",
   "execution_count": 9,
   "id": "826c4a97",
   "metadata": {},
   "outputs": [
    {
     "data": {
      "text/plain": [
       "6         tomato\n",
       "15    gooseberry\n",
       "dtype: object"
      ]
     },
     "execution_count": 9,
     "metadata": {},
     "output_type": "execute_result"
    }
   ],
   "source": [
    "# 6. Use the .apply method with a lambda function to find the fruit(s) containing the letter \"o\" two or more times.l= \n",
    "f[f.apply(lambda fruit: fruit.count('o') > 1)]"
   ]
  },
  {
   "cell_type": "code",
   "execution_count": 10,
   "id": "a12e994c",
   "metadata": {},
   "outputs": [
    {
     "data": {
      "text/plain": [
       "2     strawberry\n",
       "13     blueberry\n",
       "14    blackberry\n",
       "15    gooseberry\n",
       "dtype: object"
      ]
     },
     "execution_count": 10,
     "metadata": {},
     "output_type": "execute_result"
    }
   ],
   "source": [
    "# 7. Write the code to get only the string values containing the substring \"berry\".\n",
    "f[f.apply(lambda fruit: \"berry\" in fruit)]"
   ]
  },
  {
   "cell_type": "code",
   "execution_count": 11,
   "id": "58eb177e",
   "metadata": {},
   "outputs": [
    {
     "data": {
      "text/plain": [
       "3           pineapple\n",
       "4          gala apple\n",
       "5    honeycrisp apple\n",
       "dtype: object"
      ]
     },
     "execution_count": 11,
     "metadata": {},
     "output_type": "execute_result"
    }
   ],
   "source": [
    "# 8. Write the code to get only the string values containing the substring \"apple\".\n",
    "f[f.apply(lambda fruit: \"apple\" in fruit)]"
   ]
  },
  {
   "cell_type": "code",
   "execution_count": 12,
   "id": "cf4c7e76",
   "metadata": {},
   "outputs": [
    {
     "data": {
      "text/plain": [
       "'honeycrisp apple'"
      ]
     },
     "execution_count": 12,
     "metadata": {},
     "output_type": "execute_result"
    }
   ],
   "source": [
    "# 9. Which string value contains the most vowels?\n",
    "f[num_vowels.idxmax()]"
   ]
  },
  {
   "cell_type": "markdown",
   "id": "ff1e1a09",
   "metadata": {},
   "source": [
    "# <h1><center>Exercises Part III</center></h1> # \n",
    "\n",
    "# <h1><center>1</center></h1> "
   ]
  },
  {
   "cell_type": "code",
   "execution_count": 13,
   "id": "352547f8",
   "metadata": {},
   "outputs": [
    {
     "data": {
      "text/plain": [
       "0      h\n",
       "1      n\n",
       "2      v\n",
       "3      i\n",
       "4      d\n",
       "      ..\n",
       "195    r\n",
       "196    o\n",
       "197    g\n",
       "198    u\n",
       "199    y\n",
       "Length: 200, dtype: object"
      ]
     },
     "execution_count": 13,
     "metadata": {},
     "output_type": "execute_result"
    }
   ],
   "source": [
    "# 1.1 Use pandas to create a Series named letters from the following string:\n",
    "string = list('hnvidduckkqxwymbimkccexbkmqygkxoyndmcxnwqarhyffsjpsrabtjzsypmzadfavyrnndndvswreauxovncxtwzpwejilzjrmmbbgbyxvjtewqthafnbkqplarokkyydtubbmnexoypulzwfhqvckdpqtpoppzqrmcvhhpwgjwupgzhiofohawytlsiyecuproguy')\n",
    "letters = pd.Series(string)\n",
    "\n",
    "letters"
   ]
  },
  {
   "cell_type": "code",
   "execution_count": 14,
   "id": "679691b2",
   "metadata": {},
   "outputs": [
    {
     "data": {
      "text/plain": [
       "'y'"
      ]
     },
     "execution_count": 14,
     "metadata": {},
     "output_type": "execute_result"
    }
   ],
   "source": [
    "# 1.2 Which letter occurs the most frequently in the letters Series?\n",
    "(letters.value_counts()).idxmax()"
   ]
  },
  {
   "cell_type": "code",
   "execution_count": 15,
   "id": "71d4bcfc",
   "metadata": {},
   "outputs": [
    {
     "data": {
      "text/plain": [
       "34"
      ]
     },
     "execution_count": 15,
     "metadata": {},
     "output_type": "execute_result"
    }
   ],
   "source": [
    "# 1.3 How many vowels are in the Series?\n",
    "num_vowels = letters[letters.str.lower().str.count('[aeiou]') > 0 ]\n",
    "num_vowels.size"
   ]
  },
  {
   "cell_type": "code",
   "execution_count": 16,
   "id": "9ba59505",
   "metadata": {},
   "outputs": [
    {
     "data": {
      "text/plain": [
       "166"
      ]
     },
     "execution_count": 16,
     "metadata": {},
     "output_type": "execute_result"
    }
   ],
   "source": [
    "# 1.4 How many consonants are in the Series?\n",
    "letters.size  - num_vowels.size"
   ]
  },
  {
   "cell_type": "code",
   "execution_count": 17,
   "id": "b2389a4f",
   "metadata": {},
   "outputs": [
    {
     "data": {
      "text/plain": [
       "0                 KIWI\n",
       "1                MANGO\n",
       "2           STRAWBERRY\n",
       "3            PINEAPPLE\n",
       "4           GALA APPLE\n",
       "5     HONEYCRISP APPLE\n",
       "6               TOMATO\n",
       "7           WATERMELON\n",
       "8             HONEYDEW\n",
       "9                 KIWI\n",
       "10                KIWI\n",
       "11                KIWI\n",
       "12               MANGO\n",
       "13           BLUEBERRY\n",
       "14          BLACKBERRY\n",
       "15          GOOSEBERRY\n",
       "16              PAPAYA\n",
       "dtype: object"
      ]
     },
     "execution_count": 17,
     "metadata": {},
     "output_type": "execute_result"
    }
   ],
   "source": [
    "# 1.5 Create a Series that has all of the same letters but uppercased.\n",
    "f.str.upper()"
   ]
  },
  {
   "cell_type": "code",
   "execution_count": 18,
   "id": "01d4b720",
   "metadata": {},
   "outputs": [
    {
     "data": {
      "text/plain": [
       "Text(0.5, 0, 'Letters')"
      ]
     },
     "execution_count": 18,
     "metadata": {},
     "output_type": "execute_result"
    },
    {
     "data": {
      "image/png": "[encoded data removed]",
      "text/plain": [
       "<Figure size 432x288 with 1 Axes>"
      ]
     },
     "metadata": {
      "needs_background": "light"
     },
     "output_type": "display_data"
    }
   ],
   "source": [
    "# 1.6 Create a bar plot of the frequencies of the 6 most commonly occuring letters.\n",
    "letters.value_counts().head(6).plot.bar(color = 'r')\n",
    "plt.ylabel(\"Frequency\")\n",
    "plt.xlabel(\"Letters\")"
   ]
  },
  {
   "cell_type": "markdown",
   "id": "68886a0e",
   "metadata": {},
   "source": [
    "# <h1><center>2</center></h1> "
   ]
  },
  {
   "cell_type": "markdown",
   "id": "d0416d73",
   "metadata": {},
   "source": [
    "## "
   ]
  },
  {
   "cell_type": "code",
   "execution_count": 19,
   "id": "8e7b48a5",
   "metadata": {},
   "outputs": [],
   "source": [
    "# Use pandas to create a Series named numbers from the following list:\n",
    "num_lst = ['$796,459.41', '$278.60', '$482,571.67', '$4,503,915.98', '$2,121,418.3', '$1,260,813.3', '$87,231.01', '$1,509,175.45', '$4,138,548.00', '$2,848,913.80', '$594,715.39', '$4,789,988.17', '$4,513,644.5', '$3,191,059.97', '$1,758,712.24', '$4,338,283.54', '$4,738,303.38', '$2,791,759.67', '$769,681.94', '$452,650.23']\n",
    "num = pd.Series(['$796,459.41', '$278.60', '$482,571.67', '$4,503,915.98', '$2,121,418.3', '$1,260,813.3', '$87,231.01', '$1,509,175.45', '$4,138,548.00', '$2,848,913.80', '$594,715.39', '$4,789,988.17', '$4,513,644.5', '$3,191,059.97', '$1,758,712.24', '$4,338,283.54', '$4,738,303.38', '$2,791,759.67', '$769,681.94', '$452,650.23'])"
   ]
  },
  {
   "cell_type": "code",
   "execution_count": 23,
   "id": "47753c6f",
   "metadata": {},
   "outputs": [
    {
     "name": "stdout",
     "output_type": "stream",
     "text": [
      "2.1 The data type of the number series is object\n"
     ]
    }
   ],
   "source": [
    "# 2.1 What is the data type of the numbers Series?\n",
    "print(f\"2.1 The data type of the number series is {num.dtype}\")\n"
   ]
  },
  {
   "cell_type": "code",
   "execution_count": 26,
   "id": "2e774076",
   "metadata": {},
   "outputs": [
    {
     "data": {
      "text/plain": [
       "20"
      ]
     },
     "execution_count": 26,
     "metadata": {},
     "output_type": "execute_result"
    }
   ],
   "source": [
    "# 2.2 How many elements are in the number Series?\n",
    "num.size"
   ]
  },
  {
   "cell_type": "code",
   "execution_count": 27,
   "id": "7f0f1cc7",
   "metadata": {},
   "outputs": [
    {
     "name": "stdout",
     "output_type": "stream",
     "text": [
      "[796459.41, 278.6, 482571.67, 4503915.98, 2121418.3, 1260813.3, 87231.01, 1509175.45, 4138548.0, 2848913.8, 594715.39, 4789988.17, 4513644.5, 3191059.97, 1758712.24, 4338283.54, 4738303.38, 2791759.67, 769681.94, 452650.23]\n",
      "0      796459.41\n",
      "1         278.60\n",
      "2      482571.67\n",
      "3     4503915.98\n",
      "4     2121418.30\n",
      "5     1260813.30\n",
      "6       87231.01\n",
      "7     1509175.45\n",
      "8     4138548.00\n",
      "9     2848913.80\n",
      "10     594715.39\n",
      "11    4789988.17\n",
      "12    4513644.50\n",
      "13    3191059.97\n",
      "14    1758712.24\n",
      "15    4338283.54\n",
      "16    4738303.38\n",
      "17    2791759.67\n",
      "18     769681.94\n",
      "19     452650.23\n",
      "dtype: float64\n"
     ]
    }
   ],
   "source": [
    "# 2.3 Perform the necessary manipulations by accessing Series attributes and methods to convert the numbers Series to a numeric data type.\n",
    "def money_int(lst):\n",
    "    o = []\n",
    "    out = []\n",
    "    idx = 0\n",
    "    for x in lst:\n",
    "        o.append(x.replace(\"$\", \"\"))\n",
    "        out.append(float(o[idx].replace(\",\", \"\")))\n",
    "        idx += 1\n",
    "    return out\n",
    "print(money_int(num_lst))\n",
    "numbers = pd.Series(money_int(num_lst))\n",
    "print(numbers)\n"
   ]
  },
  {
   "cell_type": "code",
   "execution_count": 28,
   "id": "3d94977f",
   "metadata": {},
   "outputs": [
    {
     "data": {
      "text/plain": [
       "4789988.17"
      ]
     },
     "execution_count": 28,
     "metadata": {},
     "output_type": "execute_result"
    }
   ],
   "source": [
    "# 2.4 Run the code to discover the maximum value from the Series.\n",
    "numbers.max()"
   ]
  },
  {
   "cell_type": "code",
   "execution_count": 29,
   "id": "41a24527",
   "metadata": {},
   "outputs": [
    {
     "data": {
      "text/plain": [
       "278.6"
      ]
     },
     "execution_count": 29,
     "metadata": {},
     "output_type": "execute_result"
    }
   ],
   "source": [
    "# 2.5 Run the code to discover the minimum value from the Series.\n",
    "numbers.min()"
   ]
  },
  {
   "cell_type": "code",
   "execution_count": 99,
   "id": "327cf3b1",
   "metadata": {},
   "outputs": [
    {
     "data": {
      "text/plain": [
       "4789709.57"
      ]
     },
     "execution_count": 99,
     "metadata": {},
     "output_type": "execute_result"
    }
   ],
   "source": [
    "# 2.6 What is the range of the values in the Series?\n",
    "numbers.max() - numbers.min()"
   ]
  },
  {
   "cell_type": "code",
   "execution_count": 31,
   "id": "242178d0",
   "metadata": {},
   "outputs": [
    {
     "data": {
      "text/plain": [
       "(-4511.111, 958220.514]       7\n",
       "(3832046.256, 4789988.17]     6\n",
       "(958220.514, 1916162.428]     3\n",
       "(1916162.428, 2874104.342]    3\n",
       "(2874104.342, 3832046.256]    1\n",
       "dtype: int64"
      ]
     },
     "execution_count": 31,
     "metadata": {},
     "output_type": "execute_result"
    }
   ],
   "source": [
    "# 2.7 Bin the data into 4 equally sized intervals or bins and output how many values fall into each bin.\n",
    "numbers.value_counts(bins = 5)"
   ]
  },
  {
   "cell_type": "code",
   "execution_count": 62,
   "id": "ce9fb2fe",
   "metadata": {},
   "outputs": [
    {
     "data": {
      "image/png": "[encoded data removed]",
      "text/plain": [
       "<Figure size 432x288 with 1 Axes>"
      ]
     },
     "metadata": {},
     "output_type": "display_data"
    }
   ],
   "source": [
    "# 2.8Plot the binned data in a meaningful way. Be sure to include a title and axis labels.\n",
    "plt.title('Numbers Pie Chart')\n",
    "explode = (0.1, 0, 0, 0, 0)\n",
    "numbers.value_counts(bins = 5).plot.pie(explode=explode, autopct='%1.1f%%')\n",
    "plt.show()"
   ]
  },
  {
   "cell_type": "markdown",
   "id": "2e103479",
   "metadata": {},
   "source": [
    "# <h1><center>3</center></h1> "
   ]
  },
  {
   "cell_type": "code",
   "execution_count": 44,
   "id": "9790a199",
   "metadata": {},
   "outputs": [
    {
     "name": "stdout",
     "output_type": "stream",
     "text": [
      "<class 'pandas.core.series.Series'>\n"
     ]
    }
   ],
   "source": [
    "scores = [60, 86, 75, 62, 93, 71, 60, 83, 95, 78, 65, 72, 69, 81, 96, 80, 85, 92, 82, 78]\n",
    "exam_scores = pd.Series(scores)\n",
    "es = exam_scores\n",
    "print(type(es))"
   ]
  },
  {
   "cell_type": "code",
   "execution_count": 41,
   "id": "9a6d2ac0",
   "metadata": {},
   "outputs": [
    {
     "data": {
      "text/plain": [
       "20"
      ]
     },
     "execution_count": 41,
     "metadata": {},
     "output_type": "execute_result"
    }
   ],
   "source": [
    "# 3.1 How many elements are in the exam_scores Series?\n",
    "exam_scores.size "
   ]
  },
  {
   "cell_type": "code",
   "execution_count": 50,
   "id": "f34ae07b",
   "metadata": {},
   "outputs": [
    {
     "name": "stdout",
     "output_type": "stream",
     "text": [
      "The Min of the exam_scores series is:60 \n",
      "The Max of the exam_scores series is:96 \n",
      "The Mean of the exam_scores series is:78.15 \n",
      "The Median score of the exam_scores series is:79.0 \n"
     ]
    }
   ],
   "source": [
    "# 3.2 Run the code to discover the minimum, the maximum, the mean, and the median scores for the exam_scores Series.\n",
    "print(f\"The Min of the exam_scores series is:{es.min()} \")\n",
    "print(f\"The Max of the exam_scores series is:{es.max()} \")\n",
    "print(f\"The Mean of the exam_scores series is:{es.mean()} \")\n",
    "print(f\"The Median score of the exam_scores series is:{es.median()} \")"
   ]
  },
  {
   "cell_type": "code",
   "execution_count": 106,
   "id": "0e7a7529",
   "metadata": {},
   "outputs": [
    {
     "data": {
      "text/plain": [
       "Text(0.5, 1.0, 'Exam Scores')"
      ]
     },
     "execution_count": 106,
     "metadata": {},
     "output_type": "execute_result"
    },
    {
     "data": {
      "image/png": "[encoded data removed]",
      "text/plain": [
       "<Figure size 432x288 with 1 Axes>"
      ]
     },
     "metadata": {
      "needs_background": "light"
     },
     "output_type": "display_data"
    }
   ],
   "source": [
    "# 3.3 Plot the Series in a meaningful way and make sure your chart has a title and axis labels.\n",
    "es.plot.hist()\n",
    "plt.grid(color='grey', linestyle='--', linewidth=0.5)\n",
    "plt.ylabel(\"Frequency\")\n",
    "plt.xlabel(\"Number Grade\")\n",
    "plt.title(\"Exam Scores\")"
   ]
  },
  {
   "cell_type": "code",
   "execution_count": null,
   "id": "93f73f6c",
   "metadata": {},
   "outputs": [],
   "source": []
  },
  {
   "cell_type": "code",
   "execution_count": null,
   "id": "1fb0b8b0",
   "metadata": {},
   "outputs": [],
   "source": [
    "# 3.4 Write the code necessary to implement a curve for your exam_grades Series and save this as curved_grades. Add the necessary points to the highest grade to make it 100, and add the same number of points to every other score in the Series as well.\n",
    "\n",
    "# 3.5 Use a method to convert each of the numeric values in the curved_grades Series into a categorical value of letter grades. For example, 86 should be a 'B' and 95 should be an 'A'. Save this as a Series named letter_grades.\n",
    "\n",
    "# 3.6 Plot your new categorical letter_grades Series in a meaninful way and include a title and axis labels.\n",
    "\n"
   ]
  }
 ],
 "metadata": {
  "kernelspec": {
   "display_name": "Python 3",
   "language": "python",
   "name": "python3"
  },
  "language_info": {
   "codemirror_mode": {
    "name": "ipython",
    "version": 3
   },
   "file_extension": ".py",
   "mimetype": "text/x-python",
   "name": "python",
   "nbconvert_exporter": "python",
   "pygments_lexer": "ipython3",
   "version": "3.8.8"
  }
 },
 "nbformat": 4,
 "nbformat_minor": 5
}

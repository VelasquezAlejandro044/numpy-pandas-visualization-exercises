{
 "cells": [
  {
   "cell_type": "markdown",
   "id": "cc043748",
   "metadata": {},
   "source": [
    "# \n",
    "- Title your chart \"Big O Notation\"\n",
    "- Label your x axis \"Elements\"\n",
    "- Label your y axis \"Operations\"\n",
    "- Label your curves or make a legend for the curves\n",
    "- Use LaTex notation where possible\n"
   ]
  },
  {
   "cell_type": "code",
   "execution_count": null,
   "id": "f95e54c1",
   "metadata": {},
   "outputs": [],
   "source": [
    "import math\n",
    "import matplotlib.pyplot as plt\n",
    "import numpy as np\n",
    "\n",
    "plt.title(\"Big O Notation\")\n",
    "plt.xlabel(\"Elements\")\n",
    "plt.ylabel(\"Operations\")\n",
    "plt.legend()"
   ]
  }
 ],
 "metadata": {
  "kernelspec": {
   "display_name": "Python 3",
   "language": "python",
   "name": "python3"
  },
  "language_info": {
   "codemirror_mode": {
    "name": "ipython",
    "version": 3
   },
   "file_extension": ".py",
   "mimetype": "text/x-python",
   "name": "python",
   "nbconvert_exporter": "python",
   "pygments_lexer": "ipython3",
   "version": "3.8.8"
  }
 },
 "nbformat": 4,
 "nbformat_minor": 5
}
